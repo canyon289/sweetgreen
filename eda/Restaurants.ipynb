{
 "cells": [
  {
   "cell_type": "code",
   "execution_count": 14,
   "metadata": {},
   "outputs": [],
   "source": [
    "import sweetgreen as sg\n",
    "import pandas as pd\n",
    "import matplotlib.pyplot as plt\n",
    "import copy"
   ]
  },
  {
   "cell_type": "code",
   "execution_count": 9,
   "metadata": {},
   "outputs": [
    {
     "data": {
      "text/plain": [
       "dict_keys(['bag_products', 'assets', 'transforms', 'restaurants', 'meta'])"
      ]
     },
     "execution_count": 9,
     "metadata": {},
     "output_type": "execute_result"
    }
   ],
   "source": [
    "restaurants_json = sg.utils.read_json(\"../data/raw/raw_restaurants.json\")\n",
    "restaurants_json.keys()"
   ]
  },
  {
   "cell_type": "markdown",
   "metadata": {},
   "source": [
    "# Analyze Restaurants"
   ]
  },
  {
   "cell_type": "code",
   "execution_count": 15,
   "metadata": {},
   "outputs": [],
   "source": [
    "restaurants = copy.deepcopy(restaurants_json[\"restaurants\"])"
   ]
  },
  {
   "cell_type": "code",
   "execution_count": 12,
   "metadata": {},
   "outputs": [
    {
     "data": {
      "text/plain": [
       "[{'id': 1,\n",
       "  'name': 'Dupont',\n",
       "  'restaurant_slug': 'dupont',\n",
       "  'latitude': 38.9104437,\n",
       "  'longitude': -77.0442565,\n",
       "  'distance': None,\n",
       "  'city': 'Washington',\n",
       "  'state': 'DC',\n",
       "  'address': '1512 Connecticut Ave NW',\n",
       "  'zip_code': '20036',\n",
       "  'phone': '12023879338',\n",
       "  'cross_street': None,\n",
       "  'enabled': True,\n",
       "  'hidden': False,\n",
       "  'pickup_instructions': \"Head to the online ordering station on the right by the cashier. We recommend consuming your order ASAP for best taste. If your order is still on the shelf 30 minutes after your designated pick-up time, we'll compost it for food quality reasons.\",\n",
       "  'accepting_orders': True,\n",
       "  'not_accepting_orders_reason': 'Online ordering is currently unavailable. We apologize for any inconvenience.',\n",
       "  'hours': [{'start': '10:30', 'end': '22:00', 'wday': 'Sun'},\n",
       "   {'start': '10:30', 'end': '22:00', 'wday': 'Mon'},\n",
       "   {'start': '10:30', 'end': '22:00', 'wday': 'Tue'},\n",
       "   {'start': '10:30', 'end': '22:00', 'wday': 'Wed'},\n",
       "   {'start': '10:30', 'end': '22:00', 'wday': 'Thu'},\n",
       "   {'start': '10:30', 'end': '22:00', 'wday': 'Fri'},\n",
       "   {'start': '10:30', 'end': '22:00', 'wday': 'Sat'}],\n",
       "  'store_hours': 'Mon - Sun 10:30am - 10pm',\n",
       "  'flex_message': 'The store will be closing at 7:30.  We are sorry for the inconvenience.',\n",
       "  'olo_id': 10062,\n",
       "  'throttle_enabled': True,\n",
       "  'throttle_default_size': 35,\n",
       "  'supports_mixing': True,\n",
       "  'show_mixing_tooltip': True,\n",
       "  'show_warning_dialog': False,\n",
       "  'warning_dialog_title': None,\n",
       "  'warning_dialog_description': None,\n",
       "  'warning_dialog_timeout': -1,\n",
       "  'is_outpost': False,\n",
       "  'available_dropoff_locations': [],\n",
       "  'show_upsells': True,\n",
       "  'entity_id': 2,\n",
       "  'dietary_preference_overrides': [],\n",
       "  'menu_id': 1,\n",
       "  'bag_product_id': None,\n",
       "  'asset_ids': [449]},\n",
       " {'id': 2,\n",
       "  'name': 'Bethesda',\n",
       "  'restaurant_slug': 'bethesda',\n",
       "  'latitude': 38.9811015,\n",
       "  'longitude': -77.0969659,\n",
       "  'distance': None,\n",
       "  'city': 'Bethesda',\n",
       "  'state': 'MD',\n",
       "  'address': '4831 Bethesda Ave',\n",
       "  'zip_code': '20814',\n",
       "  'phone': '13016547336',\n",
       "  'cross_street': None,\n",
       "  'enabled': True,\n",
       "  'hidden': False,\n",
       "  'pickup_instructions': \"Head to the online ordering station on the left by the cashier. We recommend consuming your order ASAP for best taste. If your order is still on the shelf 30 minutes after your designated pick-up time, we'll compost it for food quality reasons.\",\n",
       "  'accepting_orders': True,\n",
       "  'not_accepting_orders_reason': 'Online ordering is currently unavailable. We apologize for any inconvenience. ',\n",
       "  'hours': [{'start': '10:30', 'end': '22:00', 'wday': 'Sun'},\n",
       "   {'start': '10:30', 'end': '22:00', 'wday': 'Mon'},\n",
       "   {'start': '10:30', 'end': '22:00', 'wday': 'Tue'},\n",
       "   {'start': '10:30', 'end': '22:00', 'wday': 'Wed'},\n",
       "   {'start': '10:30', 'end': '22:00', 'wday': 'Thu'},\n",
       "   {'start': '10:30', 'end': '22:00', 'wday': 'Fri'},\n",
       "   {'start': '10:30', 'end': '22:00', 'wday': 'Sat'}],\n",
       "  'store_hours': 'Mon - Sun 10:30am - 10pm',\n",
       "  'flex_message': '',\n",
       "  'olo_id': 10063,\n",
       "  'throttle_enabled': True,\n",
       "  'throttle_default_size': 40,\n",
       "  'supports_mixing': True,\n",
       "  'show_mixing_tooltip': True,\n",
       "  'show_warning_dialog': False,\n",
       "  'warning_dialog_title': None,\n",
       "  'warning_dialog_description': None,\n",
       "  'warning_dialog_timeout': -1,\n",
       "  'is_outpost': False,\n",
       "  'available_dropoff_locations': [],\n",
       "  'show_upsells': True,\n",
       "  'entity_id': 3,\n",
       "  'dietary_preference_overrides': [],\n",
       "  'menu_id': 2,\n",
       "  'bag_product_id': None,\n",
       "  'asset_ids': [1158]}]"
      ]
     },
     "execution_count": 12,
     "metadata": {},
     "output_type": "execute_result"
    }
   ],
   "source": [
    "restaurants[:2]"
   ]
  },
  {
   "cell_type": "markdown",
   "metadata": {},
   "source": [
    "### Measure number of restaurants and outposts"
   ]
  },
  {
   "cell_type": "code",
   "execution_count": null,
   "metadata": {},
   "outputs": [],
   "source": []
  }
 ],
 "metadata": {
  "kernelspec": {
   "display_name": "Python 3",
   "language": "python",
   "name": "python3"
  },
  "language_info": {
   "codemirror_mode": {
    "name": "ipython",
    "version": 3
   },
   "file_extension": ".py",
   "mimetype": "text/x-python",
   "name": "python",
   "nbconvert_exporter": "python",
   "pygments_lexer": "ipython3",
   "version": "3.7.2"
  }
 },
 "nbformat": 4,
 "nbformat_minor": 2
}
