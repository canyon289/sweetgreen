{
 "cells": [
  {
   "cell_type": "markdown",
   "metadata": {},
   "source": [
    "# Sweetgreen Regional Analysis\n",
    "Analyze restaurant data with a computed regional dimension"
   ]
  },
  {
   "cell_type": "markdown",
   "metadata": {},
   "source": [
    "# Business Question\n",
    "* Why is the distribution of outposts to restaurants non uniform?\n",
    "* How is the decision to open new restaurants or outposts made?\n",
    "* How is it decided which regions are good for new markets?"
   ]
  },
  {
   "cell_type": "markdown",
   "metadata": {},
   "source": [
    "# Notes\n",
    "* Bay Area region only has one outpost, which seems strange given the number of startups in the area"
   ]
  },
  {
   "cell_type": "code",
   "execution_count": 1,
   "metadata": {},
   "outputs": [],
   "source": [
    "import sweetgreen as sg\n",
    "import pandas as pd\n",
    "import json\n",
    "import matplotlib.pyplot as plt"
   ]
  },
  {
   "cell_type": "code",
   "execution_count": 2,
   "metadata": {},
   "outputs": [
    {
     "name": "stdout",
     "output_type": "stream",
     "text": [
      "         region                  address           city state         restaurant_slug\n",
      "55     Bay Area               171 2nd St  San Francisco    CA                    soma\n",
      "44     Bay Area            581 Ramona St      Palo Alto    CA               palo-alto\n",
      "41     Bay Area        1890 Shattuck Ave       Berkeley    CA                berkeley\n",
      "15       Boston          659 Boylston St         Boston    MA                back-bay\n",
      "18       Boston          372 Congress St         Boston    MA              fort-point\n",
      "21       Boston          210 Boylston St  Chestnut Hill    MA           chestnut-hill\n",
      "77      Chicago         1000 Randolph St        Chicago    IL           fulton-market\n",
      "50      Chicago           623 N State St        Chicago    IL             river-north\n",
      "68      Chicago          1 N Dearborn St        Chicago    IL        dearborn-madison\n",
      "0    DC, MD, VA  1512 Connecticut Ave NW     Washington    DC                  dupont\n",
      "2    DC, MD, VA  221 Pennsylvania Ave SE     Washington    DC            capitol-hill\n",
      "1    DC, MD, VA        4831 Bethesda Ave       Bethesda    MD                bethesda\n",
      "29  Los Angeles            8055 W 3rd St    Los Angeles    CA                west-3rd\n",
      "30  Los Angeles              1343 4th St   Santa Monica    CA            santa-monica\n",
      "37  Los Angeles    6115 West Sunset Blvd    Los Angeles    CA  hollywood-sunset-gower\n",
      "19     New York         413 Greenwich St       New York    NY                 tribeca\n",
      "13     New York            1164 Broadway       New York    NY                   nomad\n",
      "23     New York             162 N 4th St       Brooklyn    NY            williamsburg\n",
      "27       Philly           68 Coulter Ave        Ardmore    PA                 ardmore\n",
      "6        Philly           3925 Walnut St   Philadelphia    PA                   upenn\n",
      "20       Philly            924 Walnut St   Philadelphia    PA             10th-walnut\n"
     ]
    }
   ],
   "source": [
    "restaurants = sg.utils.read_json(\"../data/cleaned/flattened_restaurants.json\")\n",
    "restaurants_df = pd.DataFrame(restaurants)\n",
    "\n",
    "clusters = sg.cluster.location_clustering(restaurants_df)\n",
    "\n",
    "restaurants_df[\"region\"] = clusters\n",
    "restaurants_df[\"region\"] = restaurants_df[\"region\"].replace(sg.cluster.CLUSTER_MAP)\n",
    "\n",
    "with pd.option_context('display.max_rows', None, 'display.max_columns', None, \"display.width\", 100):\n",
    "    print(restaurants_df[[\"region\", \"address\", \"city\", \"state\", \"restaurant_slug\"]].groupby(\"region\").head(3).sort_values(\"region\"))"
   ]
  },
  {
   "cell_type": "markdown",
   "metadata": {},
   "source": [
    "# Count Number of Restaurants and Outposts in each region\n",
    "Exclude hidden restaurants as many of them look like test locations"
   ]
  },
  {
   "cell_type": "code",
   "execution_count": 3,
   "metadata": {},
   "outputs": [
    {
     "data": {
      "text/html": [
       "<div>\n",
       "<style scoped>\n",
       "    .dataframe tbody tr th:only-of-type {\n",
       "        vertical-align: middle;\n",
       "    }\n",
       "\n",
       "    .dataframe tbody tr th {\n",
       "        vertical-align: top;\n",
       "    }\n",
       "\n",
       "    .dataframe thead th {\n",
       "        text-align: right;\n",
       "    }\n",
       "</style>\n",
       "<table border=\"1\" class=\"dataframe\">\n",
       "  <thead>\n",
       "    <tr style=\"text-align: right;\">\n",
       "      <th></th>\n",
       "      <th>LocationType</th>\n",
       "      <th>Count</th>\n",
       "    </tr>\n",
       "    <tr>\n",
       "      <th>region</th>\n",
       "      <th></th>\n",
       "      <th></th>\n",
       "    </tr>\n",
       "  </thead>\n",
       "  <tbody>\n",
       "    <tr>\n",
       "      <th>Bay Area</th>\n",
       "      <td>Restaurant</td>\n",
       "      <td>6</td>\n",
       "    </tr>\n",
       "    <tr>\n",
       "      <th>Bay Area</th>\n",
       "      <td>Outpost</td>\n",
       "      <td>1</td>\n",
       "    </tr>\n",
       "    <tr>\n",
       "      <th>Boston</th>\n",
       "      <td>Restaurant</td>\n",
       "      <td>15</td>\n",
       "    </tr>\n",
       "    <tr>\n",
       "      <th>Boston</th>\n",
       "      <td>Outpost</td>\n",
       "      <td>9</td>\n",
       "    </tr>\n",
       "    <tr>\n",
       "      <th>Chicago</th>\n",
       "      <td>Restaurant</td>\n",
       "      <td>4</td>\n",
       "    </tr>\n",
       "  </tbody>\n",
       "</table>\n",
       "</div>"
      ],
      "text/plain": [
       "         LocationType  Count\n",
       "region                      \n",
       "Bay Area   Restaurant      6\n",
       "Bay Area      Outpost      1\n",
       "Boston     Restaurant     15\n",
       "Boston        Outpost      9\n",
       "Chicago    Restaurant      4"
      ]
     },
     "execution_count": 3,
     "metadata": {},
     "output_type": "execute_result"
    }
   ],
   "source": [
    "region_count = restaurants_df.loc[~restaurants_df[\"hidden\"], [\"region\", \"is_outpost\", \"restaurant_slug\"]].groupby([\"region\", \"is_outpost\"]).count()\n",
    "region_count = region_count.reset_index(1)\n",
    "region_count[\"is_outpost\"]= region_count[\"is_outpost\"].replace({True:\"Outpost\", False:\"Restaurant\"})\n",
    "region_count.columns = [\"LocationType\", \"Count\"]\n",
    "\n",
    "region_count.head()"
   ]
  },
  {
   "cell_type": "code",
   "execution_count": 4,
   "metadata": {},
   "outputs": [
    {
     "data": {
      "text/html": [
       "<div>\n",
       "<style scoped>\n",
       "    .dataframe tbody tr th:only-of-type {\n",
       "        vertical-align: middle;\n",
       "    }\n",
       "\n",
       "    .dataframe tbody tr th {\n",
       "        vertical-align: top;\n",
       "    }\n",
       "\n",
       "    .dataframe thead th {\n",
       "        text-align: right;\n",
       "    }\n",
       "</style>\n",
       "<table border=\"1\" class=\"dataframe\">\n",
       "  <thead>\n",
       "    <tr style=\"text-align: right;\">\n",
       "      <th>LocationType</th>\n",
       "      <th>Outpost</th>\n",
       "      <th>Restaurant</th>\n",
       "    </tr>\n",
       "    <tr>\n",
       "      <th>region</th>\n",
       "      <th></th>\n",
       "      <th></th>\n",
       "    </tr>\n",
       "  </thead>\n",
       "  <tbody>\n",
       "    <tr>\n",
       "      <th>Bay Area</th>\n",
       "      <td>1</td>\n",
       "      <td>6</td>\n",
       "    </tr>\n",
       "    <tr>\n",
       "      <th>Boston</th>\n",
       "      <td>9</td>\n",
       "      <td>15</td>\n",
       "    </tr>\n",
       "    <tr>\n",
       "      <th>Chicago</th>\n",
       "      <td>9</td>\n",
       "      <td>4</td>\n",
       "    </tr>\n",
       "    <tr>\n",
       "      <th>DC, MD, VA</th>\n",
       "      <td>10</td>\n",
       "      <td>26</td>\n",
       "    </tr>\n",
       "    <tr>\n",
       "      <th>Los Angeles</th>\n",
       "      <td>27</td>\n",
       "      <td>11</td>\n",
       "    </tr>\n",
       "    <tr>\n",
       "      <th>New York</th>\n",
       "      <td>37</td>\n",
       "      <td>22</td>\n",
       "    </tr>\n",
       "    <tr>\n",
       "      <th>Philly</th>\n",
       "      <td>3</td>\n",
       "      <td>6</td>\n",
       "    </tr>\n",
       "  </tbody>\n",
       "</table>\n",
       "</div>"
      ],
      "text/plain": [
       "LocationType  Outpost  Restaurant\n",
       "region                           \n",
       "Bay Area            1           6\n",
       "Boston              9          15\n",
       "Chicago             9           4\n",
       "DC, MD, VA         10          26\n",
       "Los Angeles        27          11\n",
       "New York           37          22\n",
       "Philly              3           6"
      ]
     },
     "execution_count": 4,
     "metadata": {},
     "output_type": "execute_result"
    }
   ],
   "source": [
    "region_count_pivot = region_count.pivot(columns = \"LocationType\", values = [\"Count\"])\n",
    "region_count_pivot.columns = region_count_pivot.columns.droplevel()\n",
    "region_count_pivot"
   ]
  },
  {
   "cell_type": "code",
   "execution_count": 5,
   "metadata": {},
   "outputs": [
    {
     "data": {
      "text/plain": [
       "<matplotlib.axes._subplots.AxesSubplot at 0x7ff68d307198>"
      ]
     },
     "execution_count": 5,
     "metadata": {},
     "output_type": "execute_result"
    },
    {
     "data": {
      "image/png": "[encoded data removed]",
      "text/plain": [
       "<Figure size 720x576 with 1 Axes>"
      ]
     },
     "metadata": {
      "needs_background": "light"
     },
     "output_type": "display_data"
    }
   ],
   "source": [
    "region_count_pivot.plot(kind=\"bar\", figsize = (10,8), title=\"Count of Restaurants and Outposts per Region\")"
   ]
  },
  {
   "cell_type": "code",
   "execution_count": 6,
   "metadata": {},
   "outputs": [
    {
     "data": {
      "text/plain": [
       "Index(['Outpost', 'Restaurant'], dtype='object', name='LocationType')"
      ]
     },
     "execution_count": 6,
     "metadata": {},
     "output_type": "execute_result"
    }
   ],
   "source": [
    "region_count_pivot.columns"
   ]
  },
  {
   "cell_type": "code",
   "execution_count": 7,
   "metadata": {},
   "outputs": [
    {
     "data": {
      "text/plain": [
       "Text(0.5, 0.98, 'Outpost Count normalized by Restaurant Count per region')"
      ]
     },
     "execution_count": 7,
     "metadata": {},
     "output_type": "execute_result"
    },
    {
     "data": {
      "image/png": "[encoded data removed]",
      "text/plain": [
       "<Figure size 720x576 with 1 Axes>"
      ]
     },
     "metadata": {
      "needs_background": "light"
     },
     "output_type": "display_data"
    }
   ],
   "source": [
    "fig, ax = plt.subplots(figsize = (10,8))\n",
    "(region_count_pivot[\"Outpost\"] / region_count_pivot[\"Restaurant\"]).sort_values().plot(kind=\"Bar\", ax=ax, color=\"#1f4f46\")\n",
    "ax.set_ylabel(\"Restaurant to Outpost Ratio\")\n",
    "fig.suptitle(\"Outpost Count normalized by Restaurant Count per region\")"
   ]
  },
  {
   "cell_type": "markdown",
   "metadata": {},
   "source": [
    "## Why is there only one outpost in the Bay Area?\n",
    "\n",
    "Validatning that data is correct"
   ]
  },
  {
   "cell_type": "code",
   "execution_count": 8,
   "metadata": {},
   "outputs": [
    {
     "data": {
      "text/html": [
       "<div>\n",
       "<style scoped>\n",
       "    .dataframe tbody tr th:only-of-type {\n",
       "        vertical-align: middle;\n",
       "    }\n",
       "\n",
       "    .dataframe tbody tr th {\n",
       "        vertical-align: top;\n",
       "    }\n",
       "\n",
       "    .dataframe thead th {\n",
       "        text-align: right;\n",
       "    }\n",
       "</style>\n",
       "<table border=\"1\" class=\"dataframe\">\n",
       "  <thead>\n",
       "    <tr style=\"text-align: right;\">\n",
       "      <th></th>\n",
       "      <th>region</th>\n",
       "      <th>address</th>\n",
       "      <th>city</th>\n",
       "      <th>state</th>\n",
       "      <th>restaurant_slug</th>\n",
       "      <th>hidden</th>\n",
       "      <th>is_outpost</th>\n",
       "      <th>name</th>\n",
       "    </tr>\n",
       "  </thead>\n",
       "  <tbody>\n",
       "    <tr>\n",
       "      <th>41</th>\n",
       "      <td>Bay Area</td>\n",
       "      <td>1890 Shattuck Ave</td>\n",
       "      <td>Berkeley</td>\n",
       "      <td>CA</td>\n",
       "      <td>berkeley</td>\n",
       "      <td>False</td>\n",
       "      <td>False</td>\n",
       "      <td>Berkeley</td>\n",
       "    </tr>\n",
       "    <tr>\n",
       "      <th>44</th>\n",
       "      <td>Bay Area</td>\n",
       "      <td>581 Ramona St</td>\n",
       "      <td>Palo Alto</td>\n",
       "      <td>CA</td>\n",
       "      <td>palo-alto</td>\n",
       "      <td>False</td>\n",
       "      <td>False</td>\n",
       "      <td>Palo Alto</td>\n",
       "    </tr>\n",
       "    <tr>\n",
       "      <th>55</th>\n",
       "      <td>Bay Area</td>\n",
       "      <td>171 2nd St</td>\n",
       "      <td>San Francisco</td>\n",
       "      <td>CA</td>\n",
       "      <td>soma</td>\n",
       "      <td>False</td>\n",
       "      <td>False</td>\n",
       "      <td>Soma</td>\n",
       "    </tr>\n",
       "    <tr>\n",
       "      <th>66</th>\n",
       "      <td>Bay Area</td>\n",
       "      <td>440 Castro St</td>\n",
       "      <td>Mountain View</td>\n",
       "      <td>CA</td>\n",
       "      <td>mountain-view</td>\n",
       "      <td>False</td>\n",
       "      <td>False</td>\n",
       "      <td>Mountain View</td>\n",
       "    </tr>\n",
       "    <tr>\n",
       "      <th>75</th>\n",
       "      <td>Bay Area</td>\n",
       "      <td>300 W El Camino Real</td>\n",
       "      <td>Sunnyvale</td>\n",
       "      <td>CA</td>\n",
       "      <td>sunnyvale</td>\n",
       "      <td>False</td>\n",
       "      <td>False</td>\n",
       "      <td>Sunnyvale</td>\n",
       "    </tr>\n",
       "    <tr>\n",
       "      <th>87</th>\n",
       "      <td>Bay Area</td>\n",
       "      <td>1 East 3rd Ave</td>\n",
       "      <td>San Mateo</td>\n",
       "      <td>CA</td>\n",
       "      <td>san-mateo</td>\n",
       "      <td>False</td>\n",
       "      <td>False</td>\n",
       "      <td>San Mateo</td>\n",
       "    </tr>\n",
       "    <tr>\n",
       "      <th>144</th>\n",
       "      <td>Bay Area</td>\n",
       "      <td>Three Embarcadero Center</td>\n",
       "      <td>San Francisco</td>\n",
       "      <td>CA</td>\n",
       "      <td>pwc-sf</td>\n",
       "      <td>False</td>\n",
       "      <td>True</td>\n",
       "      <td>sg Outpost at PwC SF</td>\n",
       "    </tr>\n",
       "  </tbody>\n",
       "</table>\n",
       "</div>"
      ],
      "text/plain": [
       "       region                   address           city state restaurant_slug  \\\n",
       "41   Bay Area         1890 Shattuck Ave       Berkeley    CA        berkeley   \n",
       "44   Bay Area             581 Ramona St      Palo Alto    CA       palo-alto   \n",
       "55   Bay Area                171 2nd St  San Francisco    CA            soma   \n",
       "66   Bay Area             440 Castro St  Mountain View    CA   mountain-view   \n",
       "75   Bay Area      300 W El Camino Real      Sunnyvale    CA       sunnyvale   \n",
       "87   Bay Area            1 East 3rd Ave      San Mateo    CA       san-mateo   \n",
       "144  Bay Area  Three Embarcadero Center  San Francisco    CA          pwc-sf   \n",
       "\n",
       "     hidden  is_outpost                  name  \n",
       "41    False       False              Berkeley  \n",
       "44    False       False             Palo Alto  \n",
       "55    False       False                  Soma  \n",
       "66    False       False         Mountain View  \n",
       "75    False       False             Sunnyvale  \n",
       "87    False       False             San Mateo  \n",
       "144   False        True  sg Outpost at PwC SF  "
      ]
     },
     "execution_count": 8,
     "metadata": {},
     "output_type": "execute_result"
    }
   ],
   "source": [
    "restaurants_df[restaurants_df[\"region\"] == \"Bay Area\"][[\"region\", \"address\", \"city\", \"state\", \"restaurant_slug\", \"hidden\", \"is_outpost\", \"name\"]]"
   ]
  }
 ],
 "metadata": {
  "kernelspec": {
   "display_name": "Python 3",
   "language": "python",
   "name": "python3"
  },
  "language_info": {
   "codemirror_mode": {
    "name": "ipython",
    "version": 3
   },
   "file_extension": ".py",
   "mimetype": "text/x-python",
   "name": "python",
   "nbconvert_exporter": "python",
   "pygments_lexer": "ipython3",
   "version": "3.7.2"
  }
 },
 "nbformat": 4,
 "nbformat_minor": 2
}
